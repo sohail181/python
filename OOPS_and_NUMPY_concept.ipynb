{
  "nbformat": 4,
  "nbformat_minor": 0,
  "metadata": {
    "colab": {
      "provenance": []
    },
    "kernelspec": {
      "name": "python3",
      "display_name": "Python 3"
    },
    "language_info": {
      "name": "python"
    }
  },
  "cells": [
    {
      "cell_type": "code",
      "execution_count": 1,
      "metadata": {
        "colab": {
          "base_uri": "https://localhost:8080/"
        },
        "id": "k3nvky5zKujX",
        "outputId": "3323f195-4b2c-4ba2-b650-f3384393297b"
      },
      "outputs": [
        {
          "output_type": "stream",
          "name": "stdout",
          "text": [
            "Rodger is a mammal\n",
            "Tommy is also a mammal\n",
            "My name is Rodger\n",
            "My name is Tommy\n"
          ]
        }
      ],
      "source": [
        "#Creating a class and object\n",
        "class Dog:\n",
        "    attr1 = \"mammal\"\n",
        "    def __init__(self, name):\n",
        "        self.name = name\n",
        "Rodger = Dog(\"Rodger\")\n",
        "Tommy = Dog(\"Tommy\")\n",
        "\n",
        "print(\"Rodger is a {}\".format(Rodger.__class__.attr1))\n",
        "print(\"Tommy is also a {}\".format(Tommy.__class__.attr1))\n",
        "\n",
        "print(\"My name is {}\".format(Rodger.name))\n",
        "print(\"My name is {}\".format(Tommy.name))"
      ]
    },
    {
      "cell_type": "code",
      "source": [
        "class Employee:\n",
        "    company_name = 'ABC Company'\n",
        "    def __init__(self, name, salary):\n",
        "        self.name = name\n",
        "        self.salary = salary\n",
        "    def show(self):\n",
        "        print('Employee:', self.name, self.salary, self.company_name)\n",
        "emp1 = Employee(\"Harry\", 12000)\n",
        "emp1.show()\n",
        "emp2 = Employee(\"Emma\", 10000)\n",
        "emp2.show()\n"
      ],
      "metadata": {
        "colab": {
          "base_uri": "https://localhost:8080/"
        },
        "id": "V5bCKCjFPhHV",
        "outputId": "857b5a82-e992-495f-e5b0-21b9e902eb87"
      },
      "execution_count": 3,
      "outputs": [
        {
          "output_type": "stream",
          "name": "stdout",
          "text": [
            "Employee: Harry 12000 ABC Company\n",
            "Employee: Emma 10000 ABC Company\n"
          ]
        }
      ]
    },
    {
      "cell_type": "code",
      "source": [
        "#INHERITANCE\n",
        "class Person(object):\n",
        "\n",
        "    def __init__(self, name, idnumber):\n",
        "        self.name = name\n",
        "        self.idnumber = idnumber\n",
        "\n",
        "    def display(self):\n",
        "        print(self.name)\n",
        "        print(self.idnumber)\n",
        "\n",
        "    def details(self):\n",
        "        print(\"My name is {}\".format(self.name))\n",
        "        print(\"IdNumber: {}\".format(self.idnumber))\n",
        "\n",
        "class Employee(Person):\n",
        "    def __init__(self, name, idnumber, salary, post):\n",
        "        self.salary = salary\n",
        "        self.post = post\n",
        "        Person.__init__(self, name, idnumber)\n",
        "\n",
        "    def details(self):\n",
        "        print(\"My name is {}\".format(self.name))\n",
        "        print(\"IdNumber: {}\".format(self.idnumber))\n",
        "        print(\"Post: {}\".format(self.post))\n",
        "\n",
        "a = Employee('Rahul', 886012, 200000, \"Intern\")\n",
        "a.display()\n",
        "a.details()"
      ],
      "metadata": {
        "colab": {
          "base_uri": "https://localhost:8080/"
        },
        "id": "yCJkHykxRLU2",
        "outputId": "5638253a-fdb9-4af4-a9cf-165ce63faaf5"
      },
      "execution_count": 4,
      "outputs": [
        {
          "output_type": "stream",
          "name": "stdout",
          "text": [
            "Rahul\n",
            "886012\n",
            "My name is Rahul\n",
            "IdNumber: 886012\n",
            "Post: Intern\n"
          ]
        }
      ]
    },
    {
      "cell_type": "code",
      "source": [
        "#polymorphism\n",
        "class Bird:\n",
        "    def intro(self):\n",
        "        print(\"There are many types of birds.\")\n",
        "\n",
        "    def flight(self):\n",
        "        print(\"Most of the birds can fly but some cannot.\")\n",
        "\n",
        "class sparrow(Bird):\n",
        "    def flight(self):\n",
        "        print(\"Sparrows can fly.\")\n",
        "class ostrich(Bird):\n",
        "    def flight(self):\n",
        "        print(\"Ostriches cannot fly.\")\n",
        "obj_bird = Bird()\n",
        "obj_spr = sparrow()\n",
        "obj_ost = ostrich()\n",
        "obj_bird.intro()\n",
        "obj_bird.flight()\n",
        "obj_spr.intro()\n",
        "obj_spr.flight()\n",
        "obj_ost.intro()\n",
        "obj_ost.flight()"
      ],
      "metadata": {
        "colab": {
          "base_uri": "https://localhost:8080/"
        },
        "id": "uoRtkofTRw2W",
        "outputId": "0fa55ce8-07bd-4ea5-a1d2-0b7964a08456"
      },
      "execution_count": 5,
      "outputs": [
        {
          "output_type": "stream",
          "name": "stdout",
          "text": [
            "There are many types of birds.\n",
            "Most of the birds can fly but some cannot.\n",
            "There are many types of birds.\n",
            "Sparrows can fly.\n",
            "There are many types of birds.\n",
            "Ostriches cannot fly.\n"
          ]
        }
      ]
    },
    {
      "cell_type": "code",
      "source": [
        "#Encapsulation\n",
        "class Base:\n",
        "    def __init__(self):\n",
        "        self.a = \"helloooo\"\n",
        "        self.__c = \"hello\"\n",
        "\n",
        "class Derived(Base):\n",
        "    def __init__(self):\n",
        "        Base.__init__(self)\n",
        "        print(\"Calling private member of base class: \")\n",
        "        print(self.__c)\n",
        "obj1 = Base()\n",
        "print(obj1.a)"
      ],
      "metadata": {
        "colab": {
          "base_uri": "https://localhost:8080/"
        },
        "id": "GEikJ_7WUpTI",
        "outputId": "663b1adb-1927-4c0d-d5b1-c7a0d4612f33"
      },
      "execution_count": 7,
      "outputs": [
        {
          "output_type": "stream",
          "name": "stdout",
          "text": [
            "helloooo\n"
          ]
        }
      ]
    },
    {
      "cell_type": "code",
      "source": [
        "#Abstraction\n",
        "class Rectangle:\n",
        "    def __init__(self, length, width):\n",
        "        self.__length = length\n",
        "        self.__width = width\n",
        "\n",
        "    def area(self):\n",
        "        return self.__length * self.__width\n",
        "\n",
        "    def perimeter(self):\n",
        "        return 2 * (self.__length + self.__width)\n",
        "\n",
        "rect = Rectangle(5, 3)\n",
        "print(f\"Area: {rect.area()}\")\n",
        "print(f\"Perimeter: {rect.perimeter()}\")"
      ],
      "metadata": {
        "colab": {
          "base_uri": "https://localhost:8080/"
        },
        "id": "yYC_v6_pU-0X",
        "outputId": "9d3046ab-8f51-4b7d-9684-bf16a9646053"
      },
      "execution_count": 8,
      "outputs": [
        {
          "output_type": "stream",
          "name": "stdout",
          "text": [
            "Area: 15\n",
            "Perimeter: 16\n"
          ]
        }
      ]
    },
    {
      "cell_type": "code",
      "source": [
        "#create a numpy array with 6 random integers from 10 to 30\n",
        "import numpy as np\n",
        "arr = np.random.randint(10, 30, 6)\n",
        "print(arr)\n"
      ],
      "metadata": {
        "colab": {
          "base_uri": "https://localhost:8080/"
        },
        "id": "Yg1UdbndVR0A",
        "outputId": "a631fe54-b901-43a1-c949-460dfe24f3bd"
      },
      "execution_count": 9,
      "outputs": [
        {
          "output_type": "stream",
          "name": "stdout",
          "text": [
            "[20 13 16 12 12 28]\n"
          ]
        }
      ]
    },
    {
      "cell_type": "code",
      "source": [
        "#Create a numpy array of size 10 x 5 with random values and extract the first five rows into variable\n",
        "import numpy as np\n",
        "arr = np.random.rand(10, 5)\n",
        "print(arr)\n",
        "first_five_rows = arr[:5]\n",
        "print(first_five_rows)\n"
      ],
      "metadata": {
        "colab": {
          "base_uri": "https://localhost:8080/"
        },
        "id": "WHhHyagikixg",
        "outputId": "4e1ccc86-0bf0-48a1-9c54-96988c7af456"
      },
      "execution_count": 22,
      "outputs": [
        {
          "output_type": "stream",
          "name": "stdout",
          "text": [
            "[[0.04291836 0.64251241 0.6428391  0.19019792 0.51877912]\n",
            " [0.60346876 0.86150658 0.17585115 0.72627956 0.52125646]\n",
            " [0.36044607 0.89735178 0.9143344  0.78239601 0.43077856]\n",
            " [0.08220908 0.61575865 0.23890548 0.21758147 0.89490891]\n",
            " [0.56218333 0.78932168 0.62154294 0.65386478 0.81205976]\n",
            " [0.93858336 0.93325032 0.19774866 0.74442794 0.84404002]\n",
            " [0.89462178 0.47459957 0.47784981 0.66987185 0.92041082]\n",
            " [0.02489608 0.7501915  0.61971663 0.03627741 0.95249194]\n",
            " [0.81098924 0.75604689 0.3617845  0.82687584 0.71077608]\n",
            " [0.06102195 0.8696964  0.74591167 0.35908889 0.48740437]]\n",
            "[[0.04291836 0.64251241 0.6428391  0.19019792 0.51877912]\n",
            " [0.60346876 0.86150658 0.17585115 0.72627956 0.52125646]\n",
            " [0.36044607 0.89735178 0.9143344  0.78239601 0.43077856]\n",
            " [0.08220908 0.61575865 0.23890548 0.21758147 0.89490891]\n",
            " [0.56218333 0.78932168 0.62154294 0.65386478 0.81205976]]\n"
          ]
        }
      ]
    },
    {
      "cell_type": "code",
      "source": [
        "#create a numpy array of size 5x5 with random values and find the maximum and minimum in them\n",
        "import numpy as np\n",
        "arr = np.random.rand(5, 5)\n",
        "print(arr)\n",
        "min,max = arr.min(),arr.max()\n",
        "print(\"highest=\",max,\"lowest=\",min)"
      ],
      "metadata": {
        "colab": {
          "base_uri": "https://localhost:8080/"
        },
        "id": "JUvmicyDlI5g",
        "outputId": "e3ecb534-22ce-4852-9b82-9c9e23fea7dc"
      },
      "execution_count": 17,
      "outputs": [
        {
          "output_type": "stream",
          "name": "stdout",
          "text": [
            "[[0.21521109 0.96632899 0.54165909 0.45039874 0.74773363]\n",
            " [0.52316692 0.85283071 0.67664119 0.27498234 0.32265184]\n",
            " [0.03723833 0.06959895 0.0022219  0.93942787 0.61331111]\n",
            " [0.54845874 0.98848399 0.41866991 0.0805934  0.72503255]\n",
            " [0.89772251 0.21053808 0.36776572 0.64185794 0.91455979]]\n",
            "highest= 0.9884839918562478 lowest= 0.002221902914073204\n"
          ]
        }
      ]
    },
    {
      "cell_type": "code",
      "source": [
        "#create a numpy array which has numbers shuffled between 1 to 10\n",
        "import numpy as np\n",
        "x = np.arange(1,11)\n",
        "print(x)\n",
        "np.random.shuffle(x)\n",
        "print(x)"
      ],
      "metadata": {
        "colab": {
          "base_uri": "https://localhost:8080/"
        },
        "id": "T8-tC3vfnIzK",
        "outputId": "cdfc8ddd-e227-4b88-e2e4-f0956092b283"
      },
      "execution_count": 23,
      "outputs": [
        {
          "output_type": "stream",
          "name": "stdout",
          "text": [
            "[ 1  2  3  4  5  6  7  8  9 10]\n",
            "[ 1  5  6  8  9  7 10  3  4  2]\n"
          ]
        }
      ]
    },
    {
      "cell_type": "code",
      "source": [],
      "metadata": {
        "id": "GcUHsMx5nwGq"
      },
      "execution_count": null,
      "outputs": []
    }
  ]
}